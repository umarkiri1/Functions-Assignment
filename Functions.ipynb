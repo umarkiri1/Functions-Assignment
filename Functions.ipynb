{
 "cells": [
  {
   "cell_type": "markdown",
   "metadata": {},
   "source": [
    "# Exercise 8-1\n",
    "### Message: Write a function called display_message() that prints one sentence telling everyone what you are learning about in this chapter. Call the function, and make sure the message displays correctly."
   ]
  },
  {
   "cell_type": "code",
   "execution_count": null,
   "metadata": {},
   "outputs": [],
   "source": [
    "def display_message():\n",
    "    print(\"we have learned hoe to create and called functions in Python.\")\n",
    "\n",
    "# Call the function to display the message\n",
    "display_message()"
   ]
  },
  {
   "cell_type": "markdown",
   "metadata": {},
   "source": [
    "# Exercise 8-2"
   ]
  },
  {
   "cell_type": "markdown",
   "metadata": {},
   "source": [
    "### Write a function called favorite_book() that accepts one parameter, title. The function should print a message, such as One of my favorite books is Alice in Wonderland. Call the function, making sure to include a book title as an argument in the function call."
   ]
  },
  {
   "cell_type": "code",
   "execution_count": null,
   "metadata": {},
   "outputs": [],
   "source": [
    "def favorite_book(title):\n",
    "    print(f\"My favorite books is {title}.\")\n",
    "\n",
    "# Call the function with a specific book title\n",
    "favorite_book(\"Qur'an\")"
   ]
  },
  {
   "cell_type": "markdown",
   "metadata": {},
   "source": [
    "# Exercise 8-3"
   ]
  },
  {
   "cell_type": "markdown",
   "metadata": {},
   "source": [
    "### Write a function called make_shirt() that accepts a size and the text of a message that should be printed on the shirt. The function should print a sentence summarizing the size of the shirt and the message printed on it. Call the function once using positional arguments to make a shirt. Call the function a second time using keyword arguments."
   ]
  },
  {
   "cell_type": "code",
   "execution_count": null,
   "metadata": {},
   "outputs": [],
   "source": [
    "def make_shirt():\n",
    "    size = input(\"Enter the shirt size: \")\n",
    "    text = input(\"Enter the message to be printed on the shirt: \")\n",
    "    print(f\"Creating a {size}-sized shirt with the message: '{text}'.\")\n",
    "\n",
    "# Call the function to get input from user\n",
    "make_shirt()"
   ]
  },
  {
   "cell_type": "markdown",
   "metadata": {},
   "source": [
    "# Exercise 8-4"
   ]
  },
  {
   "cell_type": "markdown",
   "metadata": {},
   "source": [
    "### Modify the make_shirt() function so that shirts are large by default with a message that reads I love Python. Make a large shirt and a medium shirt with the default message, and a shirt of any size with a different message."
   ]
  },
  {
   "cell_type": "code",
   "execution_count": 2,
   "metadata": {},
   "outputs": [
    {
     "name": "stdout",
     "output_type": "stream",
     "text": [
      "Creating a large shirt with the message: 'I love Python'\n",
      "Creating a medium shirt with the message: 'I love Python'\n",
      "Creating a small shirt with the message: 'Coding is fun!'\n"
     ]
    }
   ],
   "source": [
    "def make_shirt(size='large', message='I love Python'):\n",
    "    print(f\"Creating a {size} shirt with the message: '{message}'\")\n",
    "\n",
    "# Make a large shirt with the default message\n",
    "make_shirt()\n",
    "\n",
    "# Make a medium shirt with the default message\n",
    "make_shirt(size='medium')\n",
    "\n",
    "# Make a shirt of any size with a different message\n",
    "make_shirt(size='small', message='Coding is fun!')"
   ]
  },
  {
   "cell_type": "markdown",
   "metadata": {},
   "source": [
    "# Exercise 8-5"
   ]
  },
  {
   "cell_type": "markdown",
   "metadata": {},
   "source": [
    "### Write a function called describe_city() that accepts the name of a city and its country. The function should print a simple sentence, such as Reykjavik is in Iceland. Give the parameter for the country a default value. Call your function for three different cities, at least one of which is not in the default country."
   ]
  },
  {
   "cell_type": "code",
   "execution_count": null,
   "metadata": {},
   "outputs": [],
   "source": [
    "def describe_city(city, country='Default Country'):\n",
    "    print(f\"{city} is in {country}.\")\n",
    "\n",
    "# Call the function for three different cities\n",
    "describe_city('Porto', 'Portugal')\n",
    "describe_city('Dutse', 'Jigawa')\n",
    "describe_city('Kaduna')  # Uses the default country"
   ]
  },
  {
   "cell_type": "markdown",
   "metadata": {},
   "source": [
    "# Exercise 8-6"
   ]
  },
  {
   "cell_type": "markdown",
   "metadata": {},
   "source": [
    "### Write a function called city_country() that takes in the name of a city and its country. The function should return a string formatted like this: \"Santiago, Chile\" Call your function with at least three city-country pairs, and print the values that are returned."
   ]
  },
  {
   "cell_type": "code",
   "execution_count": null,
   "metadata": {},
   "outputs": [],
   "source": [
    "def city_country(city, country):\n",
    "    return f\"{city}, {country}\"\n",
    "\n",
    "# Call the function with three city-country pairs and print the returned values\n",
    "print(city_country('Katsina', 'Katsina'))\n",
    "print(city_country('Kano', 'Nigeria'))\n",
    "print(city_country('Delhi', 'India'))"
   ]
  },
  {
   "cell_type": "markdown",
   "metadata": {},
   "source": [
    "# Exercise 8-7\n",
    "### Write a function called make_album() that builds a dictionary describing a music album. The function should take in an artist name and an album title, and it should return a dictionary containing these two pieces of information. Use the function to make three dictionaries representing different albums. Print each return value to show that the dictionaries are storing the album information correctly. Use None to add an optional parameter to make_album() that allows you to store the number of songs on an album. If the calling line includes a value for the number of songs, add that value to the album’s dictionary. Make at least one new function call that includes the number of songs on an album."
   ]
  },
  {
   "cell_type": "code",
   "execution_count": null,
   "metadata": {},
   "outputs": [],
   "source": [
    "def make_album(artist, title, songs=None):\n",
    "    album_info = {'artist': artist, 'title': title}\n",
    "    if songs:\n",
    "        album_info['songs'] = songs\n",
    "    return album_info\n",
    "\n",
    "# Make three dictionaries representing different Akon albums\n",
    "album = make_album('Asnanic', 'Halitta', songs=13)\n",
    "album2 = make_album('Alan waka', 'Lecturer', songs=14)\n",
    "album3 = make_album('Barmana Choge', 'MU kama sanaa mata', songs=12)\n",
    "\n",
    "# Print each return value to show that the dictionaries are storing the album information correctly\n",
    "print(album)\n",
    "print(album2)\n",
    "print(album3)"
   ]
  },
  {
   "cell_type": "markdown",
   "metadata": {},
   "source": [
    "# Exercise 8-8\n",
    "### Start with your program from Exercise 8-7. Write a while loop that allows users to enter an album’s artist and title. Once you have that information, call make_album() with the user’s input and print the dictionary that’s created. Be sure to include a quit value in the while loop."
   ]
  },
  {
   "cell_type": "code",
   "execution_count": null,
   "metadata": {},
   "outputs": [],
   "source": [
    "def make_album(artist, title, songs=None):\n",
    "    album_info = {'artist': artist, 'title': title}\n",
    "    if songs:\n",
    "        album_info['songs'] = songs\n",
    "    return album_info\n",
    "\n",
    "while True:\n",
    "    artist_input = input(\"Write the artist's name (or 'quit' to exit): \")\n",
    "    if artist_input.lower() == 'quit':\n",
    "        break\n",
    "    \n",
    "    title_input = input(\"Enter the album title: \")\n",
    "    \n",
    "    album_info = make_album(artist_input, title_input)\n",
    "\n",
    "    # Print the created dictionary\n",
    "    print(album_info)"
   ]
  },
  {
   "cell_type": "markdown",
   "metadata": {},
   "source": [
    "# Exercise 8-9\n",
    "## Messages: Make a list containing a series of short text messages. Pass the list to a function called show_messages(), which prints each text message."
   ]
  },
  {
   "cell_type": "code",
   "execution_count": null,
   "metadata": {},
   "outputs": [],
   "source": [
    "def show_messages(messages):\n",
    "    for message in messages:\n",
    "        print(message)\n",
    "\n",
    "# List of short text messages thanking Arewa Data Science Machine Learning Mentors\n",
    "thank_message = [\n",
    "    \"I am deeply thankful to the mentors at Arewa Data Science for providing me with an invaluable opportunity to explore the field of data science effortlessly. Their guidance has been truly priceless, and I am sincerely appreciative of their steadfast mentorship, which has served as a guiding light throughout my learning journey. I express heartfelt gratitude for their continuous support and generosity in sharing their wealth of knowledge, as each interaction has propelled me towards a deeper understanding of data science concepts. Being part of this learning community is a genuine privilege, connecting me with experienced mentors and fellow learners. I am fortunate to be in an environment that fosters curiosity and allows knowledge to flourish. Thank you for creating such an enriching space!\"\n",
    "]\n",
    "\n",
    "# Call the function to show the thank you messages\n",
    "show_messages(thank_message)"
   ]
  },
  {
   "cell_type": "markdown",
   "metadata": {},
   "source": [
    "# Exercise 8-10\n",
    "## Sending Messages: Start with a copy of your program from Exercise 8-9.\n",
    "### Write a function called send_messages() that prints each text message and moves each message to a new list called sent_messages as it’s printed. After calling the function, print both of your lists to make sure the messages were moved correctly."
   ]
  },
  {
   "cell_type": "code",
   "execution_count": null,
   "metadata": {},
   "outputs": [],
   "source": [
    "def send_messages(messages, sent_messages):\n",
    "    while messages:\n",
    "        current_message = messages.pop(0)\n",
    "        print(f\"Sending message: {current_message}\")\n",
    "        sent_messages.append(current_message)\n",
    "\n",
    "# List of short text messages thanking Arewa Data Science Machine Learning Mentors\n",
    "thank_message = [\n",
    "   \"I am deeply thankful to the mentors at Arewa Data Science for providing me with an invaluable opportunity to explore the field of data science effortlessly. Their guidance has been truly priceless, and I am sincerely appreciative of their steadfast mentorship, which has served as a guiding light throughout my learning journey. I express heartfelt gratitude for their continuous support and generosity in sharing their wealth of knowledge, as each interaction has propelled me towards a deeper understanding of data science concepts. Being part of this learning community is a genuine privilege, connecting me with experienced mentors and fellow learners. I am fortunate to be in an environment that fosters curiosity and allows knowledge to flourish. Thank you for creating such an enriching space!\"\n",
    "]\n",
    "\n",
    "\n",
    "# Create an empty list to store sent messages\n",
    "sent_messages_list = []\n",
    "\n",
    "# Call the function to send messages and move them to the sent_messages list\n",
    "send_messages(thank_message, sent_messages_list)\n",
    "\n",
    "# Print both lists to confirm the messages were moved correctly\n",
    "print(\"\\nOriginal messages:\")\n",
    "show_messages(thank_message)\n",
    "\n",
    "print(\"\\nSent messages:\")\n",
    "show_messages(sent_messages_list)"
   ]
  },
  {
   "cell_type": "markdown",
   "metadata": {},
   "source": [
    "# Exercise 8-11\n",
    "## Archived Messages: Start with your work from Exercise 8-10. Call the func-tion send_messages() with a copy of the list of messages. After calling the func- tion, print both of your lists to show that the original list has retained its messages."
   ]
  },
  {
   "cell_type": "code",
   "execution_count": null,
   "metadata": {},
   "outputs": [],
   "source": [
    "def send_messages(messages, sent_messages):\n",
    "    while messages:\n",
    "        current_message = messages.pop(0)\n",
    "        print(f\"Sending message: {current_message}\")\n",
    "        sent_messages.append(current_message)\n",
    "\n",
    "# List of short text messages thanking Arewa Data Science Machine Learning Mentors\n",
    "thank_message = [\n",
    "   \"I am deeply thankful to the mentors at Arewa Data Science for providing me with an invaluable opportunity to explore the field of data science effortlessly. Their guidance has been truly priceless, and I am sincerely appreciative of their steadfast mentorship, which has served as a guiding light throughout my learning journey. I express heartfelt gratitude for their continuous support and generosity in sharing their wealth of knowledge, as each interaction has propelled me towards a deeper understanding of data science concepts. Being part of this learning community is a genuine privilege, connecting me with experienced mentors and fellow learners. I am fortunate to be in an environment that fosters curiosity and allows knowledge to flourish. Thank you for creating such an enriching space!\"\n",
    "]\n",
    "\n",
    "# Create a copy of the original messages list\n",
    "original_messages = thank_message.copy()\n",
    "\n",
    "# Create an empty list to store sent messages\n",
    "sent_messages_list = []\n",
    "\n",
    "# Call the function to send messages and move them to the sent_messages list\n",
    "send_messages(original_messages.copy(), sent_messages_list)\n",
    "\n",
    "# Print both lists to show that the original list has retained its messages\n",
    "print(\"\\nOriginal messages:\")\n",
    "show_messages(original_messages)\n",
    "\n",
    "print(\"\\nSent messages:\")\n",
    "show_messages(sent_messages_list)"
   ]
  },
  {
   "cell_type": "markdown",
   "metadata": {},
   "source": [
    "# Exercise 8-12\n",
    "## Sandwiches: Write a function that accepts a list of items a person wants on a sandwich.\n",
    "### The function should have one parameter that collects as many items as the function call provides, and it should print a summary of the sand- wich that’s being ordered. Call the function three times, using a different num- ber of arguments each time"
   ]
  },
  {
   "cell_type": "code",
   "execution_count": null,
   "metadata": {},
   "outputs": [],
   "source": [
    "#Sandwiches change to Kano local food\n",
    "def make_dambu(*ingredients):\n",
    "    print(\"\\nMaking a local food with the following ingredients:\")\n",
    "    for ingredient in ingredients:\n",
    "        print(f\"- {ingredient}\")\n",
    "\n",
    "# Call the function three times with a different number of arguments each time\n",
    "make_dambu('Moi-Moi', 'Dage-Dage')\n",
    "make_dambu('Shinkafa da wake', ' Suya milk', 'Danbun Nama')\n",
    "make_dambu('Alala', 'Tuwon Shinkafa', 'Miyan Taushe', 'Orange Juice')"
   ]
  },
  {
   "cell_type": "markdown",
   "metadata": {},
   "source": [
    "# Exercise 8-13\n",
    "## User Profile: Start with a copy of user_profile.py from p a g e 148. Build a profile of yourself by calling build_profile(), using your first and last names and three other key-value pairs that describe you."
   ]
  },
  {
   "cell_type": "code",
   "execution_count": null,
   "metadata": {},
   "outputs": [],
   "source": [
    "def build_profile(first, last, **user_info):\n",
    "    \"\"\"Build a dictionary containing everything we know about a user.\"\"\"\n",
    "    user_info['first_name'] = first\n",
    "    user_info['last_name'] = last\n",
    "    return user_info\n",
    "\n",
    "# Build a profile for yourself with location set to 'Kano, Nigeria'\n",
    "my_profile = build_profile('Umar', 'Aliyu Ibrahim',\n",
    "                           occupation='Tutor',\n",
    "                           expertise='Computer Maintenance',\n",
    "                           location='Kano, Nigeria')\n",
    "\n",
    "# Print the user profile\n",
    "print(my_profile)"
   ]
  },
  {
   "cell_type": "markdown",
   "metadata": {},
   "source": [
    "# Exercise 8-14\n",
    "### Cars: Write a function that stores information about a car in a diction- ary. The function should always receive a manufacturer and a model name. It should then accept an arbitrary number of keyword arguments. Call the func- tion with the required information and two other name-value pairs, such as a color or an optional feature. Your function should work for a call like this one: One advantage of functions is the way they separate blocks of code from your main program. When you use descriptive names for your functions, your programs become much easier to follow. You can go a step further by storing your functions in a separate file called a module and then importing that module into your main program. An import statement tells Python to make the code in a module available in the currently running program file. Storing your functions in a separate file allows you to hide the details of your program’s code and focus on its higher-level logic. It also allows you to reuse functions in many different programs. When you store your functions in separate files, you can share those files with other programmers without Functions   149 Print the dictionary that’s returned to make sure all the information was stored correctly."
   ]
  },
  {
   "cell_type": "code",
   "execution_count": null,
   "metadata": {},
   "outputs": [],
   "source": [
    "def car_info(manufacturer, model, **additional_info):\n",
    "    car_dict = {\n",
    "        'manufacturer': manufacturer,\n",
    "        'model': model,\n",
    "    }\n",
    "    car_dict.update(additional_info)\n",
    "    return car_dict\n",
    "\n",
    "# Call the function with required information and two other name-value pairs\n",
    "car_information = car_info('Benz', 'ML', color='White', year=2022)\n",
    "\n",
    "# Print the dictionary to make sure all the information was stored correctly\n",
    "print(car_information)"
   ]
  },
  {
   "cell_type": "markdown",
   "metadata": {},
   "source": [
    "# Exercise 8-15\n",
    "### Printing Models: Put the functions for the example printing_models.py in a separate file called printing_functions.py. Write an import statement at the top of printing_models.py, and modify the file to use the imported functions."
   ]
  },
  {
   "cell_type": "code",
   "execution_count": null,
   "metadata": {},
   "outputs": [],
   "source": [
    "# printing_models.py\n",
    "from printing_functions import print_models, show_completed_models\n",
    "\n",
    "# Sample data of Nigerian products\n",
    "nigerian_products = ['packer', 'broom', 'Dustbin', 'Water pipe']\n",
    "\n",
    "completed_models = []\n",
    "\n",
    "# Use the imported functions\n",
    "print_models(nigerian_products, completed_models)\n",
    "show_completed_models(completed_models)"
   ]
  },
  {
   "cell_type": "markdown",
   "metadata": {},
   "source": [
    "# Exercise 8-16\n",
    "### Imports: Using a program you wrote that has one function in it, store that function in a separate file. Import the function into your main program file, and call the function using each of these approaches: import module_name from module_name import function_name from module_name import function_name as fn import module_name as mn from module_name import *"
   ]
  },
  {
   "cell_type": "code",
   "execution_count": null,
   "metadata": {},
   "outputs": [],
   "source": [
    "# main.py\n",
    "\n",
    "import fcn\n",
    "# main_program.py\n",
    "\n",
    "# Approach 1: import module_name\n",
    "import fcn\n",
    "\n",
    "# Call the function using the imported module\n",
    "fcn.greet(\"YAkubu\")\n",
    "\n",
    "# Approach 2: from module_name import function_name\n",
    "from fcn import greet\n",
    "\n",
    "# Call the function directly\n",
    "greet(\"Fatima\")\n",
    "\n",
    "# Approach 3: from module_name import function_name as fn\n",
    "from fcn import greet as greeting\n",
    "\n",
    "# Call the function using the imported function with an alias\n",
    "greeting(\"Dalha\")\n",
    "\n",
    "# Approach 4: import module_name as mn\n",
    "import fcn as fcn_mod\n",
    "\n",
    "# Call the function using the imported module with an alias\n",
    "fcn.greet(\"YAkubu\")\n",
    "\n",
    "# Approach 5: from module_name import *\n",
    "from fcn import *\n",
    "\n",
    "# Call the function directly (not recommended for larger projects)\n",
    "greet(\"Dauda\")"
   ]
  },
  {
   "cell_type": "markdown",
   "metadata": {},
   "source": [
    "# Exercise 8-17\n",
    "### Styling Functions: Choose any three programs you wrote for this chapter, and make sure they follow the styling guidelines described in this section."
   ]
  },
  {
   "cell_type": "markdown",
   "metadata": {},
   "source": [
    "# Example 1: make_shirt Function"
   ]
  },
  {
   "cell_type": "code",
   "execution_count": 1,
   "metadata": {},
   "outputs": [
    {
     "name": "stdout",
     "output_type": "stream",
     "text": [
      "Shirt order: Size - Large, Message - 'I love Python'\n",
      "Shirt order: Size - Medium, Message - 'I love Python'\n",
      "Shirt order: Size - Small, Message - 'Custom message'\n"
     ]
    }
   ],
   "source": [
    "def make_shirt(size='large', message='I love Python'):\n",
    "    \"\"\"Prints a shirt order summary.\"\"\"\n",
    "    print(f\"Shirt order: Size - {size.title()}, Message - '{message}'\")\n",
    "\n",
    "# Example usage\n",
    "make_shirt()  # Large shirt with default message\n",
    "make_shirt(size='medium')  # Medium shirt with default message\n",
    "make_shirt(size='small', message='Custom message')  # Small shirt with custom message"
   ]
  },
  {
   "cell_type": "markdown",
   "metadata": {},
   "source": [
    "# Example 2: describe_city Function"
   ]
  },
  {
   "cell_type": "code",
   "execution_count": null,
   "metadata": {},
   "outputs": [],
   "source": [
    "def describe_city(city, country='Unknown'):\n",
    "    \"\"\"Prints a sentence describing the city and its country.\"\"\"\n",
    "    print(f\"{city.title()} is in {country.title()}.\")\n",
    "\n",
    "# Example usage\n",
    "describe_city('London', 'England')\n",
    "describe_city('Kano', 'Nigeria')\n",
    "describe_city('Lagos')  # Assumes default country 'Unknown'"
   ]
  },
  {
   "cell_type": "markdown",
   "metadata": {},
   "source": [
    "# Example 3: make_album Function with Optional Parameter"
   ]
  },
  {
   "cell_type": "code",
   "execution_count": null,
   "metadata": {},
   "outputs": [],
   "source": [
    "def make_album(artist, title, songs=None):\n",
    "    \"\"\"Builds a dictionary describing a music album.\"\"\"\n",
    "    album_info = {'artist': artist, 'title': title}\n",
    "    if songs is not None:\n",
    "        album_info['songs'] = songs\n",
    "    return album_info\n",
    "\n",
    "# Example usage\n",
    "album = make_album('Shata', 'Yarinya tafi Shagamu', 12)\n",
    "album2 = make_album('Psquare', 'no time')\n",
    "album3 = make_album('Traviscot', 'Here me', 16)\n",
    "\n",
    "print(album )\n",
    "print(album2)\n",
    "print(album3)"
   ]
  }
 ],
 "metadata": {
  "kernelspec": {
   "display_name": ".venv",
   "language": "python",
   "name": "python3"
  },
  "language_info": {
   "codemirror_mode": {
    "name": "ipython",
    "version": 3
   },
   "file_extension": ".py",
   "mimetype": "text/x-python",
   "name": "python",
   "nbconvert_exporter": "python",
   "pygments_lexer": "ipython3",
   "version": "3.11.6"
  }
 },
 "nbformat": 4,
 "nbformat_minor": 2
}
